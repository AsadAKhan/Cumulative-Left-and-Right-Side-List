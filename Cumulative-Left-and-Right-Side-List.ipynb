{
 "cells": [
  {
   "cell_type": "code",
   "execution_count": 8,
   "metadata": {},
   "outputs": [
    {
     "name": "stdout",
     "output_type": "stream",
     "text": [
      "30 25\n",
      "45 10\n",
      "50 5\n",
      "53 2\n",
      "55 0\n",
      "Couldn't Match Both Sides!\n"
     ]
    }
   ],
   "source": [
    "numbers7=[12,18,15,5,3,2]\n",
    "sumAsc = 0\n",
    "remSum = 0\n",
    "sumDesc = 0\n",
    "for x in range(len(numbers7)-1):\n",
    "    if x == 0:\n",
    "        sumAsc = numbers7[x] + numbers7[x + 1]\n",
    "        remSum = sum(numbers7[x+2:len(numbers7)])\n",
    "        print(sumAsc,remSum)\n",
    "        if sumAsc == remSum:\n",
    "            print(\"Congratulations! The Sum Of Both Sides Matched!\")\n",
    "            break\n",
    "        \n",
    "    elif x > 0:\n",
    "        sumDesc = sum(numbers7[:x+2])\n",
    "        remSum = sum(numbers7[x + 2:len(numbers7)])\n",
    "        print(sumDesc,remSum)\n",
    "        len(numbers7)\n",
    "        if sumDesc == remSum:\n",
    "            print(\"Congratulations! The Sum Of Both Sides Matched!\")\n",
    "            break\n",
    "print(\"Couldn't Match Both Sides!\")"
   ]
  },
  {
   "cell_type": "code",
   "execution_count": null,
   "metadata": {},
   "outputs": [],
   "source": []
  }
 ],
 "metadata": {
  "kernelspec": {
   "display_name": "Python 3",
   "language": "python",
   "name": "python3"
  },
  "language_info": {
   "codemirror_mode": {
    "name": "ipython",
    "version": 3
   },
   "file_extension": ".py",
   "mimetype": "text/x-python",
   "name": "python",
   "nbconvert_exporter": "python",
   "pygments_lexer": "ipython3",
   "version": "3.7.3"
  }
 },
 "nbformat": 4,
 "nbformat_minor": 2
}
